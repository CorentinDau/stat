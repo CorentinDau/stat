{
 "cells": [
  {
   "cell_type": "code",
   "execution_count": 1,
   "id": "14b8f0db",
   "metadata": {},
   "outputs": [],
   "source": [
    "import numpy as np\n",
    "import matplotlib.pyplot as plt\n",
    "import pandas as pd\n",
    "from scipy import stats\n",
    "import pylab \n",
    "import seaborn as sns\n",
    "import sklearn"
   ]
  },
  {
   "cell_type": "code",
   "execution_count": 3,
   "id": "30372233",
   "metadata": {},
   "outputs": [
    {
     "data": {
      "text/html": [
       "<div>\n",
       "<style scoped>\n",
       "    .dataframe tbody tr th:only-of-type {\n",
       "        vertical-align: middle;\n",
       "    }\n",
       "\n",
       "    .dataframe tbody tr th {\n",
       "        vertical-align: top;\n",
       "    }\n",
       "\n",
       "    .dataframe thead th {\n",
       "        text-align: right;\n",
       "    }\n",
       "</style>\n",
       "<table border=\"1\" class=\"dataframe\">\n",
       "  <thead>\n",
       "    <tr style=\"text-align: right;\">\n",
       "      <th></th>\n",
       "      <th>engine1</th>\n",
       "      <th>engine2</th>\n",
       "    </tr>\n",
       "  </thead>\n",
       "  <tbody>\n",
       "    <tr>\n",
       "      <th>2020-03-01 09:00:00</th>\n",
       "      <td>24.432799</td>\n",
       "      <td>25.487918</td>\n",
       "    </tr>\n",
       "    <tr>\n",
       "      <th>2020-03-01 09:01:00</th>\n",
       "      <td>25.608757</td>\n",
       "      <td>27.429119</td>\n",
       "    </tr>\n",
       "    <tr>\n",
       "      <th>2020-03-01 09:02:00</th>\n",
       "      <td>24.339832</td>\n",
       "      <td>26.229394</td>\n",
       "    </tr>\n",
       "    <tr>\n",
       "      <th>2020-03-01 09:03:00</th>\n",
       "      <td>24.337996</td>\n",
       "      <td>26.692126</td>\n",
       "    </tr>\n",
       "    <tr>\n",
       "      <th>2020-03-01 09:04:00</th>\n",
       "      <td>25.672295</td>\n",
       "      <td>27.311690</td>\n",
       "    </tr>\n",
       "    <tr>\n",
       "      <th>...</th>\n",
       "      <td>...</td>\n",
       "      <td>...</td>\n",
       "    </tr>\n",
       "    <tr>\n",
       "      <th>2020-03-02 01:35:00</th>\n",
       "      <td>26.595020</td>\n",
       "      <td>26.773474</td>\n",
       "    </tr>\n",
       "    <tr>\n",
       "      <th>2020-03-02 01:36:00</th>\n",
       "      <td>25.225894</td>\n",
       "      <td>27.255199</td>\n",
       "    </tr>\n",
       "    <tr>\n",
       "      <th>2020-03-02 01:37:00</th>\n",
       "      <td>26.007607</td>\n",
       "      <td>27.013185</td>\n",
       "    </tr>\n",
       "    <tr>\n",
       "      <th>2020-03-02 01:38:00</th>\n",
       "      <td>24.238527</td>\n",
       "      <td>27.069309</td>\n",
       "    </tr>\n",
       "    <tr>\n",
       "      <th>2020-03-02 01:39:00</th>\n",
       "      <td>24.767604</td>\n",
       "      <td>26.400136</td>\n",
       "    </tr>\n",
       "  </tbody>\n",
       "</table>\n",
       "<p>1000 rows × 2 columns</p>\n",
       "</div>"
      ],
      "text/plain": [
       "                       engine1    engine2\n",
       "2020-03-01 09:00:00  24.432799  25.487918\n",
       "2020-03-01 09:01:00  25.608757  27.429119\n",
       "2020-03-01 09:02:00  24.339832  26.229394\n",
       "2020-03-01 09:03:00  24.337996  26.692126\n",
       "2020-03-01 09:04:00  25.672295  27.311690\n",
       "...                        ...        ...\n",
       "2020-03-02 01:35:00  26.595020  26.773474\n",
       "2020-03-02 01:36:00  25.225894  27.255199\n",
       "2020-03-02 01:37:00  26.007607  27.013185\n",
       "2020-03-02 01:38:00  24.238527  27.069309\n",
       "2020-03-02 01:39:00  24.767604  26.400136\n",
       "\n",
       "[1000 rows x 2 columns]"
      ]
     },
     "execution_count": 3,
     "metadata": {},
     "output_type": "execute_result"
    }
   ],
   "source": [
    "Data_1 = pd.read_csv('C://Users//cocod//Downloads//ttest_data.csv', index_col='Unnamed: 0')\n",
    "Data_1"
   ]
  },
  {
   "cell_type": "code",
   "execution_count": 4,
   "id": "72a9ef31",
   "metadata": {},
   "outputs": [
    {
     "data": {
      "text/plain": [
       "LeveneResult(statistic=0.43116403102930584, pvalue=0.5114939468829216)"
      ]
     },
     "execution_count": 4,
     "metadata": {},
     "output_type": "execute_result"
    }
   ],
   "source": [
    "#homogeniety\n",
    "stats.levene(Data_1['engine1'], Data_1['engine2'])\n"
   ]
  },
  {
   "cell_type": "code",
   "execution_count": 5,
   "id": "363b0f4f",
   "metadata": {},
   "outputs": [
    {
     "data": {
      "text/plain": [
       "(ShapiroResult(statistic=0.998535692691803, pvalue=0.5781129002571106),\n",
       " ShapiroResult(statistic=0.9974772334098816, pvalue=0.1250537484884262))"
      ]
     },
     "execution_count": 5,
     "metadata": {},
     "output_type": "execute_result"
    }
   ],
   "source": [
    "# Shapiro-Wilk test for normality\n",
    "normality1 = stats.shapiro(Data_1['engine1'])\n",
    "normality2 = stats.shapiro(Data_1['engine2'])\n",
    "normality1,normality2"
   ]
  },
  {
   "cell_type": "code",
   "execution_count": 6,
   "id": "bec52ea7",
   "metadata": {},
   "outputs": [
    {
     "data": {
      "text/plain": [
       "<AxesSubplot:xlabel='engine1', ylabel='Density'>"
      ]
     },
     "execution_count": 6,
     "metadata": {},
     "output_type": "execute_result"
    },
    {
     "data": {
      "image/png": "[encoded data removed]",
      "text/plain": [
       "<Figure size 504x360 with 1 Axes>"
      ]
     },
     "metadata": {
      "needs_background": "light"
     },
     "output_type": "display_data"
    }
   ],
   "source": [
    "plt.figure(figsize=(7,5))\n",
    "sns.kdeplot(Data_1['engine1'],shade=True)\n",
    "sns.kdeplot(Data_1['engine2'],shade=True)"
   ]
  },
  {
   "cell_type": "code",
   "execution_count": 7,
   "id": "51654124",
   "metadata": {},
   "outputs": [
    {
     "data": {
      "text/plain": [
       "Ttest_relResult(statistic=-47.72767438984563, pvalue=6.135853410374217e-260)"
      ]
     },
     "execution_count": 7,
     "metadata": {},
     "output_type": "execute_result"
    }
   ],
   "source": [
    "#Paired t-Test\n",
    "#correlation according the timestamp (a machine with two engines)\n",
    "stats.ttest_rel(Data_1['engine1'], Data_1['engine2'])\n"
   ]
  },
  {
   "cell_type": "code",
   "execution_count": 9,
   "id": "287cfa8d",
   "metadata": {},
   "outputs": [
    {
     "data": {
      "text/plain": [
       "Ttest_indResult(statistic=-34.53415362915837, pvalue=1.4398921919400768e-172)"
      ]
     },
     "execution_count": 9,
     "metadata": {},
     "output_type": "execute_result"
    }
   ],
   "source": [
    "#independant sample sets\n",
    "stats.ttest_ind(Data_1.loc['2020-03-01 09:00:00':'2020-03-01 17:19:00','engine1'], Data_1.loc['2020-03-01 17:20:00':'2020-03-02 01:39:00','engine2'])\n",
    "\n"
   ]
  },
  {
   "cell_type": "markdown",
   "id": "630c0184",
   "metadata": {},
   "source": [
    "Exercice 1"
   ]
  },
  {
   "cell_type": "code",
   "execution_count": 11,
   "id": "e0fc7dda",
   "metadata": {},
   "outputs": [
    {
     "data": {
      "text/html": [
       "<div>\n",
       "<style scoped>\n",
       "    .dataframe tbody tr th:only-of-type {\n",
       "        vertical-align: middle;\n",
       "    }\n",
       "\n",
       "    .dataframe tbody tr th {\n",
       "        vertical-align: top;\n",
       "    }\n",
       "\n",
       "    .dataframe thead th {\n",
       "        text-align: right;\n",
       "    }\n",
       "</style>\n",
       "<table border=\"1\" class=\"dataframe\">\n",
       "  <thead>\n",
       "    <tr style=\"text-align: right;\">\n",
       "      <th></th>\n",
       "      <th>LOF</th>\n",
       "      <th>SVM</th>\n",
       "    </tr>\n",
       "  </thead>\n",
       "  <tbody>\n",
       "    <tr>\n",
       "      <th>0</th>\n",
       "      <td>0.945336</td>\n",
       "      <td>0.891870</td>\n",
       "    </tr>\n",
       "    <tr>\n",
       "      <th>1</th>\n",
       "      <td>0.949968</td>\n",
       "      <td>0.896527</td>\n",
       "    </tr>\n",
       "    <tr>\n",
       "      <th>2</th>\n",
       "      <td>0.952799</td>\n",
       "      <td>0.881511</td>\n",
       "    </tr>\n",
       "    <tr>\n",
       "      <th>3</th>\n",
       "      <td>0.945164</td>\n",
       "      <td>0.889951</td>\n",
       "    </tr>\n",
       "    <tr>\n",
       "      <th>4</th>\n",
       "      <td>0.950367</td>\n",
       "      <td>0.885722</td>\n",
       "    </tr>\n",
       "    <tr>\n",
       "      <th>...</th>\n",
       "      <td>...</td>\n",
       "      <td>...</td>\n",
       "    </tr>\n",
       "    <tr>\n",
       "      <th>195</th>\n",
       "      <td>0.959437</td>\n",
       "      <td>0.877882</td>\n",
       "    </tr>\n",
       "    <tr>\n",
       "      <th>196</th>\n",
       "      <td>0.945508</td>\n",
       "      <td>0.881082</td>\n",
       "    </tr>\n",
       "    <tr>\n",
       "      <th>197</th>\n",
       "      <td>0.948289</td>\n",
       "      <td>0.889195</td>\n",
       "    </tr>\n",
       "    <tr>\n",
       "      <th>198</th>\n",
       "      <td>0.951143</td>\n",
       "      <td>0.890698</td>\n",
       "    </tr>\n",
       "    <tr>\n",
       "      <th>199</th>\n",
       "      <td>0.949614</td>\n",
       "      <td>0.886857</td>\n",
       "    </tr>\n",
       "  </tbody>\n",
       "</table>\n",
       "<p>200 rows × 2 columns</p>\n",
       "</div>"
      ],
      "text/plain": [
       "          LOF       SVM\n",
       "0    0.945336  0.891870\n",
       "1    0.949968  0.896527\n",
       "2    0.952799  0.881511\n",
       "3    0.945164  0.889951\n",
       "4    0.950367  0.885722\n",
       "..        ...       ...\n",
       "195  0.959437  0.877882\n",
       "196  0.945508  0.881082\n",
       "197  0.948289  0.889195\n",
       "198  0.951143  0.890698\n",
       "199  0.949614  0.886857\n",
       "\n",
       "[200 rows x 2 columns]"
      ]
     },
     "execution_count": 11,
     "metadata": {},
     "output_type": "execute_result"
    }
   ],
   "source": [
    "Data_2 = pd.read_csv('C://Users//aalaoui//Downloads//bearing_lof_svm_data.csv')\n",
    "Data_2"
   ]
  },
  {
   "cell_type": "code",
   "execution_count": 13,
   "id": "2c74cc4f",
   "metadata": {},
   "outputs": [
    {
     "data": {
      "text/plain": [
       "LeveneResult(statistic=0.2411184924633173, pvalue=0.6239432550543006)"
      ]
     },
     "execution_count": 13,
     "metadata": {},
     "output_type": "execute_result"
    }
   ],
   "source": [
    "#homogeneity\n",
    "stats.levene(Data_2.loc[0:99,'LOF'], Data_2.loc[100:199,'SVM'])"
   ]
  },
  {
   "cell_type": "code",
   "execution_count": 29,
   "id": "55eed0f2",
   "metadata": {},
   "outputs": [
    {
     "data": {
      "text/plain": [
       "(ShapiroResult(statistic=0.996601402759552, pvalue=0.9409411549568176),\n",
       " ShapiroResult(statistic=0.9826797842979431, pvalue=0.014472882263362408))"
      ]
     },
     "execution_count": 29,
     "metadata": {},
     "output_type": "execute_result"
    }
   ],
   "source": [
    "# Shapiro-Wilk test for normality\n",
    "normality_lof = stats.shapiro(Data_2['LOF'])\n",
    "normality_svm = stats.shapiro(Data_2['SVM'])\n",
    "normality_lof,normality_svm"
   ]
  },
  {
   "cell_type": "code",
   "execution_count": 14,
   "id": "4f922967",
   "metadata": {},
   "outputs": [
    {
     "data": {
      "text/plain": [
       "(ShapiroResult(statistic=0.9925774335861206, pvalue=0.8613125085830688),\n",
       " ShapiroResult(statistic=0.978970468044281, pvalue=0.11048018932342529))"
      ]
     },
     "execution_count": 14,
     "metadata": {},
     "output_type": "execute_result"
    }
   ],
   "source": [
    "# Shapiro-Wilk test for normality\n",
    "normality_lof = stats.shapiro(Data_2.loc[0:99,'LOF'])\n",
    "normality_svm = stats.shapiro(Data_2.loc[100:199,'SVM'])\n",
    "normality_lof,normality_svm"
   ]
  },
  {
   "cell_type": "code",
   "execution_count": 12,
   "id": "81ed9252",
   "metadata": {},
   "outputs": [
    {
     "data": {
      "text/plain": [
       "Ttest_indResult(statistic=84.80533632721068, pvalue=1.3591606782217719e-157)"
      ]
     },
     "execution_count": 12,
     "metadata": {},
     "output_type": "execute_result"
    }
   ],
   "source": [
    "stats.ttest_ind(Data_2.loc[0:99,'LOF'], Data_2.loc[100:199,'SVM'])\n"
   ]
  },
  {
   "cell_type": "code",
   "execution_count": 15,
   "id": "79bb535e",
   "metadata": {},
   "outputs": [
    {
     "data": {
      "text/html": [
       "<div>\n",
       "<style scoped>\n",
       "    .dataframe tbody tr th:only-of-type {\n",
       "        vertical-align: middle;\n",
       "    }\n",
       "\n",
       "    .dataframe tbody tr th {\n",
       "        vertical-align: top;\n",
       "    }\n",
       "\n",
       "    .dataframe thead th {\n",
       "        text-align: right;\n",
       "    }\n",
       "</style>\n",
       "<table border=\"1\" class=\"dataframe\">\n",
       "  <thead>\n",
       "    <tr style=\"text-align: right;\">\n",
       "      <th></th>\n",
       "      <th>Normal_data</th>\n",
       "      <th>abnormal_data</th>\n",
       "    </tr>\n",
       "  </thead>\n",
       "  <tbody>\n",
       "    <tr>\n",
       "      <th>0</th>\n",
       "      <td>-0.000100</td>\n",
       "      <td>0.806645</td>\n",
       "    </tr>\n",
       "    <tr>\n",
       "      <th>1</th>\n",
       "      <td>-0.001228</td>\n",
       "      <td>0.800665</td>\n",
       "    </tr>\n",
       "    <tr>\n",
       "      <th>2</th>\n",
       "      <td>0.013456</td>\n",
       "      <td>0.803835</td>\n",
       "    </tr>\n",
       "    <tr>\n",
       "      <th>3</th>\n",
       "      <td>-0.002552</td>\n",
       "      <td>0.804250</td>\n",
       "    </tr>\n",
       "    <tr>\n",
       "      <th>4</th>\n",
       "      <td>-0.002068</td>\n",
       "      <td>0.799185</td>\n",
       "    </tr>\n",
       "    <tr>\n",
       "      <th>...</th>\n",
       "      <td>...</td>\n",
       "      <td>...</td>\n",
       "    </tr>\n",
       "    <tr>\n",
       "      <th>195</th>\n",
       "      <td>-0.014474</td>\n",
       "      <td>0.806581</td>\n",
       "    </tr>\n",
       "    <tr>\n",
       "      <th>196</th>\n",
       "      <td>0.000286</td>\n",
       "      <td>0.799280</td>\n",
       "    </tr>\n",
       "    <tr>\n",
       "      <th>197</th>\n",
       "      <td>0.001933</td>\n",
       "      <td>0.799654</td>\n",
       "    </tr>\n",
       "    <tr>\n",
       "      <th>198</th>\n",
       "      <td>0.004932</td>\n",
       "      <td>0.808005</td>\n",
       "    </tr>\n",
       "    <tr>\n",
       "      <th>199</th>\n",
       "      <td>-0.007746</td>\n",
       "      <td>0.801774</td>\n",
       "    </tr>\n",
       "  </tbody>\n",
       "</table>\n",
       "<p>200 rows × 2 columns</p>\n",
       "</div>"
      ],
      "text/plain": [
       "     Normal_data  abnormal_data\n",
       "0      -0.000100       0.806645\n",
       "1      -0.001228       0.800665\n",
       "2       0.013456       0.803835\n",
       "3      -0.002552       0.804250\n",
       "4      -0.002068       0.799185\n",
       "..           ...            ...\n",
       "195    -0.014474       0.806581\n",
       "196     0.000286       0.799280\n",
       "197     0.001933       0.799654\n",
       "198     0.004932       0.808005\n",
       "199    -0.007746       0.801774\n",
       "\n",
       "[200 rows x 2 columns]"
      ]
     },
     "execution_count": 15,
     "metadata": {},
     "output_type": "execute_result"
    }
   ],
   "source": [
    "Data_3 = pd.read_csv('C://Users//aalaoui//Downloads//bearing_scores_predict_data.csv')\n",
    "Data_3"
   ]
  },
  {
   "cell_type": "code",
   "execution_count": 18,
   "id": "bb4683dd",
   "metadata": {},
   "outputs": [
    {
     "data": {
      "text/plain": [
       "LeveneResult(statistic=0.004355381078916193, pvalue=0.9474146956665849)"
      ]
     },
     "execution_count": 18,
     "metadata": {},
     "output_type": "execute_result"
    }
   ],
   "source": [
    "#homogeneity\n",
    "stats.levene(Data_3['Normal_data'], Data_3['abnormal_data'])"
   ]
  },
  {
   "cell_type": "code",
   "execution_count": 19,
   "id": "7c23233a",
   "metadata": {},
   "outputs": [
    {
     "data": {
      "text/plain": [
       "(ShapiroResult(statistic=0.9940854907035828, pvalue=0.6133137345314026),\n",
       " ShapiroResult(statistic=0.9929797053337097, pvalue=0.45763516426086426))"
      ]
     },
     "execution_count": 19,
     "metadata": {},
     "output_type": "execute_result"
    }
   ],
   "source": [
    "# Shapiro-Wilk test for normality\n",
    "normality_before = stats.shapiro(Data_3['Normal_data'])\n",
    "normality_after = stats.shapiro(Data_3['abnormal_data'])\n",
    "normality_before,normality_after"
   ]
  },
  {
   "cell_type": "code",
   "execution_count": 25,
   "id": "692d457f",
   "metadata": {},
   "outputs": [
    {
     "data": {
      "text/plain": [
       "Ttest_indResult(statistic=-1126.4285675003778, pvalue=0.0)"
      ]
     },
     "execution_count": 25,
     "metadata": {},
     "output_type": "execute_result"
    }
   ],
   "source": [
    "#Paired t-Test\n",
    "stats.ttest_ind(Data_3['Normal_data'], Data_3['abnormal_data'])\n"
   ]
  },
  {
   "cell_type": "code",
   "execution_count": 26,
   "id": "d0aa7ff8",
   "metadata": {},
   "outputs": [
    {
     "name": "stdout",
     "output_type": "stream",
     "text": [
      "1268841.317680999 0.0\n"
     ]
    }
   ],
   "source": [
    "fvalue, pvalue = stats.f_oneway(Data_3['Normal_data'], Data_3['abnormal_data'])\n",
    "print(fvalue, pvalue)"
   ]
  },
  {
   "cell_type": "code",
   "execution_count": 28,
   "id": "fd40ebab",
   "metadata": {},
   "outputs": [
    {
     "name": "stdout",
     "output_type": "stream",
     "text": [
      "7191.945069571355 1.3591606782210601e-157\n"
     ]
    }
   ],
   "source": [
    "fvalue, pvalue = stats.f_oneway(Data_2.loc[0:99,'LOF'], Data_2.loc[100:199,'SVM'])\n",
    "print(fvalue, pvalue)"
   ]
  },
  {
   "cell_type": "code",
   "execution_count": null,
   "id": "c114a67b",
   "metadata": {},
   "outputs": [],
   "source": []
  }
 ],
 "metadata": {
  "kernelspec": {
   "display_name": "Python 3 (ipykernel)",
   "language": "python",
   "name": "python3"
  },
  "language_info": {
   "codemirror_mode": {
    "name": "ipython",
    "version": 3
   },
   "file_extension": ".py",
   "mimetype": "text/x-python",
   "name": "python",
   "nbconvert_exporter": "python",
   "pygments_lexer": "ipython3",
   "version": "3.9.7"
  }
 },
 "nbformat": 4,
 "nbformat_minor": 5
}
